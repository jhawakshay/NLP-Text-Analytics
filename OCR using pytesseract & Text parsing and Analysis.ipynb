{
 "cells": [
  {
   "cell_type": "markdown",
   "metadata": {},
   "source": [
    "### Install libraries in pip\n",
    "\n",
    "* **Pytesseract** is an optical character recognition (OCR) tool for python. That is, it will recognize and “read” the text embedded in images. Python-tesseract is a wrapper for Google’s Tesseract-OCR Engine. It is also useful as a stand-alone invocation script to tesseract, as it can read all image types supported by the Pillow and Leptonica imaging libraries, including jpeg, png, gif, bmp, tiff, and others. Additionally, if used as a script, Python-tesseract will print the recognized text instead of writing it to a fil\n",
    "\n",
    "* **pdf2image** is a python (3.5+) module that wraps pdftoppm and pdftocairo to convert PDF to a PIL Image object "
   ]
  },
  {
   "cell_type": "code",
   "execution_count": null,
   "metadata": {},
   "outputs": [],
   "source": [
    "#pip install pytesseract\n",
    "#pip install Pillow\n",
    "#pip install tesseract\n",
    "#pip install pdf2image"
   ]
  },
  {
   "cell_type": "markdown",
   "metadata": {},
   "source": [
    "### Import functions from the libraries which were installed above"
   ]
  },
  {
   "cell_type": "code",
   "execution_count": 166,
   "metadata": {},
   "outputs": [],
   "source": [
    "import re\n",
    "import pytesseract\n",
    "import argparse\n",
    "import os\n",
    "import pdf2image\n",
    "import time\n",
    "import numpy as np\n",
    "import pandas as pd\n",
    "\n",
    "from PIL import Image\n",
    "from pdf2image import convert_from_path"
   ]
  },
  {
   "cell_type": "markdown",
   "metadata": {},
   "source": [
    "### Import the pdf file"
   ]
  },
  {
   "cell_type": "code",
   "execution_count": 29,
   "metadata": {},
   "outputs": [],
   "source": [
    "PDF_file = \"D:/External Data/Basic-Salary-Slip-Example/PaySlip_and_Employee_account/payslip.pdf\""
   ]
  },
  {
   "cell_type": "markdown",
   "metadata": {},
   "source": [
    "### Convert the pdf to images\n",
    "\n",
    "Here we are converting all the paged of the pdf into a jpeg format. The idea is first the pdf is converted to an images of respective pages in the pdf. Now, these images are PIL images which needs to be converted back to Jpeg or png.\n",
    "\n",
    "Once, we have converted them to images, those are then converted to text."
   ]
  },
  {
   "cell_type": "code",
   "execution_count": 31,
   "metadata": {},
   "outputs": [
    {
     "name": "stdout",
     "output_type": "stream",
     "text": [
      "Time taken : 0.5772304534912109\n"
     ]
    }
   ],
   "source": [
    "#DECLARE CONSTANTS\n",
    "PDF_PATH = \"C:/Users/AJ/Downloads/PAYSLIP.pdf\"\n",
    "DPI = 200\n",
    "OUTPUT_FOLDER = None\n",
    "FIRST_PAGE = None\n",
    "LAST_PAGE = None\n",
    "FORMAT = 'jpg'\n",
    "THREAD_COUNT = 1\n",
    "USERPWD = None\n",
    "USE_CROPBOX = False\n",
    "STRICT = False\n",
    "\n",
    "def pdftopil():\n",
    "    start_time = time.time()\n",
    "    pil_images = pdf2image.convert_from_path(PDF_file, dpi=DPI, output_folder=OUTPUT_FOLDER, \n",
    "                                             first_page=FIRST_PAGE, last_page=LAST_PAGE, fmt=FORMAT, thread_count=THREAD_COUNT, \n",
    "                                             userpw=USERPWD, use_cropbox=USE_CROPBOX, strict=STRICT, poppler_path= r'D:\\External Data\\Basic-Salary-Slip-Example\\poppler-0.68.0\\bin')\n",
    "    print (\"Time taken : \" + str(time.time() - start_time))\n",
    "    return pil_images\n",
    "    \n",
    "def save_images(pil_images):\n",
    "    #This method helps in converting the images in PIL Image file format to the required image format\n",
    "    index = 1\n",
    "    for image in pil_images:\n",
    "        image.save(\"page_\" + str(index) + \".jpg\")\n",
    "        index += 1\n",
    "\n",
    "if __name__ == \"__main__\":\n",
    "    pil_images = pdftopil()\n",
    "    save_images(pil_images)"
   ]
  },
  {
   "cell_type": "markdown",
   "metadata": {},
   "source": [
    "### This is for installing pytesseract into your system as else it throws an error"
   ]
  },
  {
   "cell_type": "code",
   "execution_count": 32,
   "metadata": {},
   "outputs": [],
   "source": [
    "pytesseract.pytesseract.tesseract_cmd = 'C:\\\\Program Files\\\\Tesseract-OCR\\\\tesseract.exe'"
   ]
  },
  {
   "cell_type": "markdown",
   "metadata": {},
   "source": [
    "### Convert the images to string or text format"
   ]
  },
  {
   "cell_type": "code",
   "execution_count": 33,
   "metadata": {},
   "outputs": [],
   "source": [
    "text = pytesseract.image_to_string(Image.open('page_1.jpg'))"
   ]
  },
  {
   "cell_type": "code",
   "execution_count": 34,
   "metadata": {},
   "outputs": [
    {
     "data": {
      "text/plain": [
       "'Pay Slip Sample\\n\\n \\n\\nGKW English School\\n\\nJayanagar, Bangalore\\n\\nPay slip for the month of JAN, 2008\\n\\n \\n\\n \\n\\n \\n\\n \\n\\n \\n\\n \\n\\n \\n\\n \\n\\n \\n\\n \\n\\n \\n\\n \\n\\n \\n\\n \\n\\n \\n\\n \\n\\n \\n\\n \\n\\n \\n\\n \\n\\n \\n\\n \\n\\n \\n\\n \\n\\n \\n\\n \\n\\n \\n\\n \\n\\n \\n\\n \\n\\n \\n\\n \\n\\n \\n\\n \\n\\n \\n\\n \\n\\n \\n\\n \\n\\n \\n\\n \\n\\n \\n\\n \\n\\n \\n\\n \\n\\n \\n\\n \\n\\n \\n\\nEmp Name SAPNA MISHRA Date of Joining 05/04/2005\\nEmp No 6 Date of Birth 22/09/1979\\nFather MR AMIT MISHRA Mother MRS PAYAL MISHRA\\nBank UBI Bank A/c No 2149237429742\\nPAN No JAIPS73519L PF No OR/ 9383/38\\nLOP / LWP 6 Pay Days 25\\nCurrent Basic 8000 Post / Designation Asst Manager\\nIncome Amount! Arrears| |Deduction Amount| Arrears\\nBASIC 6452 O| |PF 774| oO\\nDA 5291 Oo) [I TAX o| oO\\nADVANCE o| 0\\n|\\n|\\nGross 11743 Q| |Deductions 774 0\\nNet Pay: 10969 (Rs, ONE ZERO NINE SIX NINE and paise ZERO only)\\nLeave Jan | Feb | Mar | Apr | May | Jun | Jul | Aug | Sep | Oct | Nov | Dec Availed Cl Bal\\ncL 4 1 5 9\\nML | 5 Zt 6 39\\n\\n \\n\\n \\n\\n \\n\\n \\n\\n \\n\\n \\n\\nEmployee Account of SAPNA MISHRA for Jan 2008 to Apr 2008'"
      ]
     },
     "execution_count": 34,
     "metadata": {},
     "output_type": "execute_result"
    }
   ],
   "source": [
    "text"
   ]
  },
  {
   "cell_type": "markdown",
   "metadata": {},
   "source": [
    "### Text using NLP and parsing\n",
    "We will be using text parsing and NLP to extract the unstructured text into meaning full arrays and tables.\n",
    "The objective is to get all the details of a person on his payslip"
   ]
  },
  {
   "cell_type": "markdown",
   "metadata": {},
   "source": [
    "### Remove the spaces which are there because of \\n"
   ]
  },
  {
   "cell_type": "code",
   "execution_count": 37,
   "metadata": {},
   "outputs": [],
   "source": [
    "text_no_space = text.replace('\\n', '')"
   ]
  },
  {
   "cell_type": "code",
   "execution_count": 40,
   "metadata": {},
   "outputs": [
    {
     "data": {
      "text/plain": [
       "'Pay Slip Sample GKW English SchoolJayanagar, BangalorePay slip for the month of JAN, 2008                                               Emp Name SAPNA MISHRA Date of Joining 05/04/2005Emp No 6 Date of Birth 22/09/1979Father MR AMIT MISHRA Mother MRS PAYAL MISHRABank UBI Bank A/c No 2149237429742PAN No JAIPS73519L PF No OR/ 9383/38LOP / LWP 6 Pay Days 25Current Basic 8000 Post / Designation Asst ManagerIncome Amount! Arrears| |Deduction Amount| ArrearsBASIC 6452 O| |PF 774| oODA 5291 Oo) [I TAX o| oOADVANCE o| 0||Gross 11743 Q| |Deductions 774 0Net Pay: 10969 (Rs, ONE ZERO NINE SIX NINE and paise ZERO only)Leave Jan | Feb | Mar | Apr | May | Jun | Jul | Aug | Sep | Oct | Nov | Dec Availed Cl BalcL 4 1 5 9ML | 5 Zt 6 39      Employee Account of SAPNA MISHRA for Jan 2008 to Apr 2008'"
      ]
     },
     "execution_count": 40,
     "metadata": {},
     "output_type": "execute_result"
    }
   ],
   "source": [
    "text_no_space"
   ]
  },
  {
   "cell_type": "markdown",
   "metadata": {},
   "source": [
    "### Type of PDF"
   ]
  },
  {
   "cell_type": "code",
   "execution_count": 68,
   "metadata": {},
   "outputs": [
    {
     "name": "stdout",
     "output_type": "stream",
     "text": [
      "Pay Slip\n"
     ]
    }
   ],
   "source": [
    "## TYPE\n",
    "type_    = text_no_space[0:8]\n",
    "print(type_)"
   ]
  },
  {
   "cell_type": "code",
   "execution_count": 66,
   "metadata": {},
   "outputs": [],
   "source": [
    "pattern  = re.compile(r'Pay.Slip', re.IGNORECASE)\n",
    "matches  = pattern.finditer(text_no_space)"
   ]
  },
  {
   "cell_type": "code",
   "execution_count": 67,
   "metadata": {},
   "outputs": [
    {
     "name": "stdout",
     "output_type": "stream",
     "text": [
      "<re.Match object; span=(0, 8), match='Pay Slip'>\n",
      "<re.Match object; span=(54, 62), match='Pay slip'>\n"
     ]
    }
   ],
   "source": [
    "for match in matches:\n",
    "    print(match)"
   ]
  },
  {
   "cell_type": "markdown",
   "metadata": {},
   "source": [
    "### Organization & City Name\n",
    "\n",
    "Generally, after the first occurence of the Pay Slip it contains the Organization Name. So, we have got the first occurence of the Pay Slip from above, we can extend it further to get the company Name"
   ]
  },
  {
   "cell_type": "code",
   "execution_count": 69,
   "metadata": {},
   "outputs": [
    {
     "name": "stdout",
     "output_type": "stream",
     "text": [
      "Sample GKW English SchoolJayanagar, BangalorePay slip for the month of JAN, 2008           \n"
     ]
    }
   ],
   "source": [
    "Org_name   = text_no_space[9:100]\n",
    "print(Org_name)"
   ]
  },
  {
   "cell_type": "code",
   "execution_count": 71,
   "metadata": {},
   "outputs": [],
   "source": [
    "pattern  = re.compile(r',', re.IGNORECASE)\n",
    "matches  = pattern.finditer(Org_name)"
   ]
  },
  {
   "cell_type": "code",
   "execution_count": 72,
   "metadata": {},
   "outputs": [
    {
     "name": "stdout",
     "output_type": "stream",
     "text": [
      "<re.Match object; span=(34, 35), match=','>\n",
      "<re.Match object; span=(74, 75), match=','>\n"
     ]
    }
   ],
   "source": [
    "for match in matches:\n",
    "    print(match)"
   ]
  },
  {
   "cell_type": "code",
   "execution_count": 77,
   "metadata": {},
   "outputs": [
    {
     "name": "stdout",
     "output_type": "stream",
     "text": [
      " GKW English SchoolJayanagar\n",
      "Bangalore\n"
     ]
    }
   ],
   "source": [
    "Org_  = Org_name[6:34]\n",
    "print(Org_)\n",
    "City  = Org_name[36:45]\n",
    "print(City)"
   ]
  },
  {
   "cell_type": "markdown",
   "metadata": {},
   "source": [
    "### Salary Month & Year"
   ]
  },
  {
   "cell_type": "code",
   "execution_count": 84,
   "metadata": {},
   "outputs": [],
   "source": [
    "pattern  = re.compile(r'[2]\\d\\d\\d', re.IGNORECASE)\n",
    "matches  = pattern.finditer(text_no_space)"
   ]
  },
  {
   "cell_type": "code",
   "execution_count": 85,
   "metadata": {},
   "outputs": [
    {
     "name": "stdout",
     "output_type": "stream",
     "text": [
      "<re.Match object; span=(85, 89), match='2008'>\n",
      "<re.Match object; span=(180, 184), match='2005'>\n",
      "<re.Match object; span=(283, 287), match='2149'>\n",
      "<re.Match object; span=(287, 291), match='2374'>\n",
      "<re.Match object; span=(291, 295), match='2974'>\n",
      "<re.Match object; span=(774, 778), match='2008'>\n",
      "<re.Match object; span=(786, 790), match='2008'>\n"
     ]
    }
   ],
   "source": [
    "for match in matches:\n",
    "    print(match)"
   ]
  },
  {
   "cell_type": "code",
   "execution_count": 96,
   "metadata": {},
   "outputs": [
    {
     "name": "stdout",
     "output_type": "stream",
     "text": [
      "2008\n"
     ]
    }
   ],
   "source": [
    "### Salary of the Year is the first thing on the top of the payslip so it should be 2008\n",
    "Year_    = text_no_space[85:89]\n",
    "print(Year_)"
   ]
  },
  {
   "cell_type": "code",
   "execution_count": 92,
   "metadata": {},
   "outputs": [],
   "source": [
    "pattern  = re.compile(r'(Jan(?:uary)?|Feb(?:ruary)?|Mar(?:ch)?|Apr(?:il)?|May|Jun(?:e)?|Jul(?:y)?|Aug(?:ust)?|Sep(?:tember)?|Oct(?:ober)?|Nov(?:ember)?|Dec(?:ember)?)', re.IGNORECASE)\n",
    "matches  = pattern.finditer(text_no_space)"
   ]
  },
  {
   "cell_type": "code",
   "execution_count": 93,
   "metadata": {},
   "outputs": [
    {
     "name": "stdout",
     "output_type": "stream",
     "text": [
      "<re.Match object; span=(80, 83), match='JAN'>\n",
      "<re.Match object; span=(619, 622), match='Jan'>\n",
      "<re.Match object; span=(625, 628), match='Feb'>\n",
      "<re.Match object; span=(631, 634), match='Mar'>\n",
      "<re.Match object; span=(637, 640), match='Apr'>\n",
      "<re.Match object; span=(643, 646), match='May'>\n",
      "<re.Match object; span=(649, 652), match='Jun'>\n",
      "<re.Match object; span=(655, 658), match='Jul'>\n",
      "<re.Match object; span=(661, 664), match='Aug'>\n",
      "<re.Match object; span=(667, 670), match='Sep'>\n",
      "<re.Match object; span=(673, 676), match='Oct'>\n",
      "<re.Match object; span=(679, 682), match='Nov'>\n",
      "<re.Match object; span=(685, 688), match='Dec'>\n",
      "<re.Match object; span=(770, 773), match='Jan'>\n",
      "<re.Match object; span=(782, 785), match='Apr'>\n"
     ]
    }
   ],
   "source": [
    "for match in matches:\n",
    "    print(match)"
   ]
  },
  {
   "cell_type": "code",
   "execution_count": 97,
   "metadata": {},
   "outputs": [
    {
     "name": "stdout",
     "output_type": "stream",
     "text": [
      "JAN\n"
     ]
    }
   ],
   "source": [
    "### Here also we would find that the month of the salary is in the first occurence.\n",
    "### The other things asked could be just a cumulative salary description in the Payslip\n",
    "\n",
    "month_   = text_no_space[80:83]\n",
    "print(month_)"
   ]
  },
  {
   "cell_type": "markdown",
   "metadata": {},
   "source": [
    "### Finding the details of employer; Name, Date of Joining, Employee Number, Date of Birth, Parents Name"
   ]
  },
  {
   "cell_type": "code",
   "execution_count": 98,
   "metadata": {},
   "outputs": [],
   "source": [
    "pattern  = re.compile(r'\\d\\d[/]\\d\\d[/]\\d\\d\\d\\d', re.IGNORECASE)\n",
    "matches  = pattern.finditer(text_no_space)"
   ]
  },
  {
   "cell_type": "code",
   "execution_count": 99,
   "metadata": {},
   "outputs": [
    {
     "name": "stdout",
     "output_type": "stream",
     "text": [
      "<re.Match object; span=(174, 184), match='05/04/2005'>\n",
      "<re.Match object; span=(207, 217), match='22/09/1979'>\n"
     ]
    }
   ],
   "source": [
    "for match in matches:\n",
    "    print(match)"
   ]
  },
  {
   "cell_type": "code",
   "execution_count": 100,
   "metadata": {},
   "outputs": [
    {
     "name": "stdout",
     "output_type": "stream",
     "text": [
      "22/09/1979\n",
      "05/04/2005\n"
     ]
    }
   ],
   "source": [
    "### Logically, the DOB could not be 2005 as a person less than 18 years old can't work\n",
    "DoB_      = text_no_space[207:217]\n",
    "print(DoB_)\n",
    "DoJ_      = text_no_space[174:184]\n",
    "print(DoJ_)"
   ]
  },
  {
   "cell_type": "code",
   "execution_count": 119,
   "metadata": {},
   "outputs": [],
   "source": [
    "pattern  = re.compile(r'(Employee|Emp) Name', re.IGNORECASE)\n",
    "matches  = pattern.finditer(text_no_space)"
   ]
  },
  {
   "cell_type": "code",
   "execution_count": 120,
   "metadata": {},
   "outputs": [
    {
     "name": "stdout",
     "output_type": "stream",
     "text": [
      "<re.Match object; span=(136, 144), match='Emp Name'>\n"
     ]
    }
   ],
   "source": [
    "for match in matches:\n",
    "    print(match)"
   ]
  },
  {
   "cell_type": "code",
   "execution_count": 135,
   "metadata": {},
   "outputs": [
    {
     "name": "stdout",
     "output_type": "stream",
     "text": [
      " SAPNA MISHRA\n"
     ]
    }
   ],
   "source": [
    "emp_name_    = text_no_space[144:157]\n",
    "print(emp_name_)"
   ]
  },
  {
   "cell_type": "code",
   "execution_count": 138,
   "metadata": {},
   "outputs": [],
   "source": [
    "pattern  = re.compile(r'(Mr|Mrs|Miss|Ms)\\.?\\s[a-zA-Z]\\w*\\s[a-zA-Z]\\w*', re.IGNORECASE)\n",
    "matches  = pattern.finditer(text_no_space)"
   ]
  },
  {
   "cell_type": "code",
   "execution_count": 139,
   "metadata": {},
   "outputs": [
    {
     "name": "stdout",
     "output_type": "stream",
     "text": [
      "<re.Match object; span=(224, 238), match='MR AMIT MISHRA'>\n",
      "<re.Match object; span=(246, 266), match='MRS PAYAL MISHRABank'>\n"
     ]
    }
   ],
   "source": [
    "for match in matches:\n",
    "    print(match)"
   ]
  },
  {
   "cell_type": "code",
   "execution_count": 140,
   "metadata": {},
   "outputs": [
    {
     "name": "stdout",
     "output_type": "stream",
     "text": [
      "MR AMIT MISHRA\n",
      "MRS PAYAL MISHRA\n"
     ]
    }
   ],
   "source": [
    "father_name   = text_no_space[224:238]\n",
    "print(father_name)\n",
    "mother_name   = text_no_space[246:262]\n",
    "print(mother_name)"
   ]
  },
  {
   "cell_type": "markdown",
   "metadata": {},
   "source": [
    "### Designation"
   ]
  },
  {
   "cell_type": "code",
   "execution_count": 147,
   "metadata": {},
   "outputs": [],
   "source": [
    "pattern  = re.compile(r'Designation\\s[a-zA-Z]\\w*\\s[a-zA-Z]\\w*', re.IGNORECASE)\n",
    "matches  = pattern.finditer(text_no_space)"
   ]
  },
  {
   "cell_type": "code",
   "execution_count": 148,
   "metadata": {},
   "outputs": [
    {
     "name": "stdout",
     "output_type": "stream",
     "text": [
      "<re.Match object; span=(381, 411), match='Designation Asst ManagerIncome'>\n"
     ]
    }
   ],
   "source": [
    "for match in matches:\n",
    "    print(match)"
   ]
  },
  {
   "cell_type": "code",
   "execution_count": 152,
   "metadata": {},
   "outputs": [
    {
     "name": "stdout",
     "output_type": "stream",
     "text": [
      " Asst Manager\n"
     ]
    }
   ],
   "source": [
    "designation  = text_no_space[392:405]\n",
    "print(designation)"
   ]
  },
  {
   "cell_type": "markdown",
   "metadata": {},
   "source": [
    "### Salary"
   ]
  },
  {
   "cell_type": "code",
   "execution_count": 156,
   "metadata": {},
   "outputs": [],
   "source": [
    "pattern  = re.compile(r'(Salary|Pay|Sal):\\s[0-9]\\d*', re.IGNORECASE)\n",
    "matches  = pattern.finditer(text_no_space)"
   ]
  },
  {
   "cell_type": "code",
   "execution_count": 157,
   "metadata": {},
   "outputs": [
    {
     "name": "stdout",
     "output_type": "stream",
     "text": [
      "<re.Match object; span=(554, 564), match='Pay: 10969'>\n"
     ]
    }
   ],
   "source": [
    "for match in matches:\n",
    "    print(match)"
   ]
  },
  {
   "cell_type": "code",
   "execution_count": 160,
   "metadata": {},
   "outputs": [
    {
     "name": "stdout",
     "output_type": "stream",
     "text": [
      "10969\n"
     ]
    }
   ],
   "source": [
    "Salary_  =  text_no_space[559:564]\n",
    "print(Salary_)"
   ]
  },
  {
   "cell_type": "markdown",
   "metadata": {},
   "source": [
    "### Creating a DataFrame"
   ]
  },
  {
   "cell_type": "code",
   "execution_count": 178,
   "metadata": {},
   "outputs": [],
   "source": [
    "dict_  = {\n",
    "    'Type':type_,\n",
    "    'Organization':Org_,\n",
    "    'City':City,\n",
    "    'Year':Year_,\n",
    "    'Month': month_,\n",
    "    'Employee Name': emp_name_,\n",
    "    'Date of Birth': DoB_,\n",
    "    'Date of Joining': DoJ_,\n",
    "    'Designation':designation,\n",
    "    'Father Name':father_name,\n",
    "    'Mother Name':mother_name,\n",
    "    'Salary After Deductions':Salary_\n",
    "    \n",
    "}"
   ]
  },
  {
   "cell_type": "code",
   "execution_count": 179,
   "metadata": {},
   "outputs": [
    {
     "data": {
      "text/plain": [
       "{'Type': 'Pay Slip',\n",
       " 'Organization': ' GKW English SchoolJayanagar',\n",
       " 'City': 'Bangalore',\n",
       " 'Year': '2008',\n",
       " 'Month': 'JAN',\n",
       " 'Employee Name': ' SAPNA MISHRA',\n",
       " 'Date of Birth': '22/09/1979',\n",
       " 'Date of Joining': '05/04/2005',\n",
       " 'Designation': ' Asst Manager',\n",
       " 'Father Name': 'MR AMIT MISHRA',\n",
       " 'Mother Name': 'MRS PAYAL MISHRA',\n",
       " 'Salary After Deductions': '10969'}"
      ]
     },
     "execution_count": 179,
     "metadata": {},
     "output_type": "execute_result"
    }
   ],
   "source": [
    "dict_"
   ]
  }
 ],
 "metadata": {
  "kernelspec": {
   "display_name": "Python 3",
   "language": "python",
   "name": "python3"
  },
  "language_info": {
   "codemirror_mode": {
    "name": "ipython",
    "version": 3
   },
   "file_extension": ".py",
   "mimetype": "text/x-python",
   "name": "python",
   "nbconvert_exporter": "python",
   "pygments_lexer": "ipython3",
   "version": "3.7.6"
  }
 },
 "nbformat": 4,
 "nbformat_minor": 4
}
