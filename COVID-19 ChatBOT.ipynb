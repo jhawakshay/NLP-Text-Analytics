{
 "cells": [
  {
   "cell_type": "markdown",
   "metadata": {},
   "source": [
    "## Load library nltk, numpy, pandas, json"
   ]
  },
  {
   "cell_type": "code",
   "execution_count": 1,
   "metadata": {},
   "outputs": [
    {
     "name": "stderr",
     "output_type": "stream",
     "text": [
      "[nltk_data] Downloading package punkt to\n",
      "[nltk_data]     C:\\Users\\Hp\\AppData\\Roaming\\nltk_data...\n",
      "[nltk_data]   Package punkt is already up-to-date!\n",
      "[nltk_data] Downloading package wordnet to\n",
      "[nltk_data]     C:\\Users\\Hp\\AppData\\Roaming\\nltk_data...\n",
      "[nltk_data]   Package wordnet is already up-to-date!\n"
     ]
    }
   ],
   "source": [
    "import nltk\n",
    "nltk.download('punkt')\n",
    "nltk.download('wordnet')\n",
    "from nltk.stem import WordNetLemmatizer\n",
    "lemmatizer = WordNetLemmatizer()\n",
    "from nltk.corpus import stopwords\n",
    "from nltk.tokenize import word_tokenize\n",
    "import string\n",
    "import random\n",
    "import pandas as pd\n",
    "import numpy as np\n",
    "import warnings\n",
    "import requests\n",
    "import re\n",
    "from string import punctuation\n",
    "warnings.filterwarnings('ignore')"
   ]
  },
  {
   "cell_type": "code",
   "execution_count": 11,
   "metadata": {},
   "outputs": [
    {
     "name": "stdout",
     "output_type": "stream",
     "text": [
      "Requirement already up-to-date: gensim in c:\\users\\hp\\anaconda3\\lib\\site-packages (3.8.2)\n",
      "Requirement already satisfied, skipping upgrade: six>=1.5.0 in c:\\users\\hp\\anaconda3\\lib\\site-packages (from gensim) (1.12.0)\n",
      "Requirement already satisfied, skipping upgrade: smart-open>=1.8.1 in c:\\users\\hp\\anaconda3\\lib\\site-packages (from gensim) (1.11.1)\n",
      "Requirement already satisfied, skipping upgrade: numpy>=1.11.3 in c:\\users\\hp\\anaconda3\\lib\\site-packages (from gensim) (1.16.4)\n",
      "Requirement already satisfied, skipping upgrade: scipy>=1.0.0 in c:\\users\\hp\\anaconda3\\lib\\site-packages (from gensim) (1.4.1)\n",
      "Requirement already satisfied, skipping upgrade: boto3 in c:\\users\\hp\\anaconda3\\lib\\site-packages (from smart-open>=1.8.1->gensim) (1.12.43)\n",
      "Requirement already satisfied, skipping upgrade: boto in c:\\users\\hp\\anaconda3\\lib\\site-packages (from smart-open>=1.8.1->gensim) (2.49.0)\n",
      "Requirement already satisfied, skipping upgrade: requests in c:\\users\\hp\\anaconda3\\lib\\site-packages (from smart-open>=1.8.1->gensim) (2.22.0)\n",
      "Requirement already satisfied, skipping upgrade: jmespath<1.0.0,>=0.7.1 in c:\\users\\hp\\anaconda3\\lib\\site-packages (from boto3->smart-open>=1.8.1->gensim) (0.9.5)\n",
      "Requirement already satisfied, skipping upgrade: s3transfer<0.4.0,>=0.3.0 in c:\\users\\hp\\anaconda3\\lib\\site-packages (from boto3->smart-open>=1.8.1->gensim) (0.3.3)\n",
      "Requirement already satisfied, skipping upgrade: botocore<1.16.0,>=1.15.43 in c:\\users\\hp\\anaconda3\\lib\\site-packages (from boto3->smart-open>=1.8.1->gensim) (1.15.43)\n",
      "Requirement already satisfied, skipping upgrade: chardet<3.1.0,>=3.0.2 in c:\\users\\hp\\anaconda3\\lib\\site-packages (from requests->smart-open>=1.8.1->gensim) (3.0.4)\n",
      "Requirement already satisfied, skipping upgrade: urllib3!=1.25.0,!=1.25.1,<1.26,>=1.21.1 in c:\\users\\hp\\anaconda3\\lib\\site-packages (from requests->smart-open>=1.8.1->gensim) (1.24.2)\n",
      "Requirement already satisfied, skipping upgrade: certifi>=2017.4.17 in c:\\users\\hp\\anaconda3\\lib\\site-packages (from requests->smart-open>=1.8.1->gensim) (2020.4.5.1)\n",
      "Requirement already satisfied, skipping upgrade: idna<2.9,>=2.5 in c:\\users\\hp\\anaconda3\\lib\\site-packages (from requests->smart-open>=1.8.1->gensim) (2.8)\n",
      "Requirement already satisfied, skipping upgrade: docutils<0.16,>=0.10 in c:\\users\\hp\\anaconda3\\lib\\site-packages (from botocore<1.16.0,>=1.15.43->boto3->smart-open>=1.8.1->gensim) (0.14)\n",
      "Requirement already satisfied, skipping upgrade: python-dateutil<3.0.0,>=2.1 in c:\\users\\hp\\anaconda3\\lib\\site-packages (from botocore<1.16.0,>=1.15.43->boto3->smart-open>=1.8.1->gensim) (2.8.0)\n",
      "Note: you may need to restart the kernel to use updated packages.\n"
     ]
    }
   ],
   "source": [
    "pip install --upgrade gensim"
   ]
  },
  {
   "cell_type": "markdown",
   "metadata": {},
   "source": [
    "## Load doc2vec from gensim"
   ]
  },
  {
   "cell_type": "code",
   "execution_count": 12,
   "metadata": {},
   "outputs": [],
   "source": [
    "import gensim\n",
    "from gensim import corpora, models, similarities\n",
    "from gensim.models.doc2vec import Doc2Vec, TaggedDocument\n",
    "from gensim.utils import simple_preprocess\n",
    "import multiprocessing\n",
    "import os"
   ]
  },
  {
   "cell_type": "markdown",
   "metadata": {},
   "source": [
    "## Import the Text file on Coronavirus"
   ]
  },
  {
   "cell_type": "code",
   "execution_count": 62,
   "metadata": {},
   "outputs": [],
   "source": [
    "f = open(\"E:\\Blog\\Chatbot\\Covid_new_text.txt\", 'r', errors = \"ignore\")"
   ]
  },
  {
   "cell_type": "markdown",
   "metadata": {},
   "source": [
    "## Treat the Raw text file"
   ]
  },
  {
   "cell_type": "code",
   "execution_count": 63,
   "metadata": {},
   "outputs": [],
   "source": [
    "raw = f.read()\n",
    "raw = raw.lower()"
   ]
  },
  {
   "cell_type": "markdown",
   "metadata": {},
   "source": [
    "## Doing cleaning of the document\n",
    "### Remove special characters"
   ]
  },
  {
   "cell_type": "code",
   "execution_count": 64,
   "metadata": {},
   "outputs": [],
   "source": [
    "review_text = re.sub(r\"[^A-Za-z0-9(),!.?\\'`]\", \" \", raw )\n",
    "review_text = re.sub(r\"\\'s\", \" 's \", review_text )\n",
    "review_text = re.sub(r\"\\'ve\", \" 've \", review_text )\n",
    "review_text = re.sub(r\"n\\'t\", \" 't \", review_text )\n",
    "review_text = re.sub(r\"\\'re\", \" 're \", review_text )\n",
    "review_text = re.sub(r\"\\'d\", \" 'd \", review_text )\n",
    "review_text = re.sub(r\"\\'ll\", \" 'll \", review_text )\n",
    "#review_text = re.sub(r\"\\(\", \" \", review_text )\n",
    "#review_text = re.sub(r\"\\)\", \" \", review_text )\n",
    "review_text = re.sub(r\"\\?\", \" \", review_text )\n",
    "review_text = re.sub(r\"\\s{2,}\", \" \", review_text )"
   ]
  },
  {
   "cell_type": "markdown",
   "metadata": {},
   "source": [
    "## Sentence Tokenizing"
   ]
  },
  {
   "cell_type": "code",
   "execution_count": 65,
   "metadata": {},
   "outputs": [],
   "source": [
    "sent_tokens = nltk.sent_tokenize(review_text)"
   ]
  },
  {
   "cell_type": "markdown",
   "metadata": {},
   "source": [
    "## Remove STOP WORDS"
   ]
  },
  {
   "cell_type": "code",
   "execution_count": 6,
   "metadata": {},
   "outputs": [],
   "source": [
    "stop_words = set(stopwords.words('english'))\n",
    "all_sentence =[]\n",
    "new_sentence = []\n",
    "\n",
    "for s in range(0,len(sent_tokens)-1):\n",
    "    word_tokens = word_tokenize(sent_tokens[s])\n",
    "    for w in word_tokens:\n",
    "            if w not in stop_words:\n",
    "                new_sentence.append(w)\n",
    "\n",
    "    all_sentence.append(new_sentence)\n",
    "    new_sentence = []"
   ]
  },
  {
   "cell_type": "code",
   "execution_count": 7,
   "metadata": {},
   "outputs": [],
   "source": [
    "model_sentence = [[' '.join(i)] for i in all_sentence]"
   ]
  },
  {
   "cell_type": "code",
   "execution_count": 8,
   "metadata": {},
   "outputs": [
    {
     "data": {
      "text/plain": [
       "[['coronaviruses large family viruses may cause illness animals humans .'],\n",
       " ['humans , several coronaviruses known cause respiratory infections ranging common cold severe diseases middle east respiratory syndrome ( mers ) severe acute respiratory syndrome ( sars ) .covid 19 infectious disease caused recently discovered corona virus .'],\n",
       " ['new virus disease unknown outbreak began wuhan , china , december 2019. common symptoms covid 19 fever , tiredness , dry cough .'],\n",
       " ['patients may aches pains , nasal congestion , runny nose , sore throat diarrhea .'],\n",
       " ['symptoms usually mild begin gradually .'],\n",
       " [\"people become infected develop symptoms 't feel unwell .\"],\n",
       " ['people ( 80 ) recover disease without needing special treatment .'],\n",
       " ['around 1 every 6 people gets covid 19 becomes seriously ill develops difficulty breathing .'],\n",
       " ['older people , underlying medical problems like high blood pressure , heart problems diabetes , likely develop serious illness .'],\n",
       " ['people fever , cough difficulty breathing seek medical attention .'],\n",
       " ['people catch covid 19 others virus .'],\n",
       " ['disease spread person person small droplets nose mouth spread person covid 19 coughs exhales .'],\n",
       " ['droplets land objects surfaces around person .'],\n",
       " ['people catch covid 19 touching objects surfaces , touching eyes , nose mouth .'],\n",
       " ['people also catch covid 19 breathe droplets person covid 19 coughs exhales droplets .'],\n",
       " ['important stay 1 meter ( 3 feet ) away person sick .'],\n",
       " ['risk depends specifically , whether covid 19 outbreak unfolding .'],\n",
       " ['people locations risk catching covid 19 still low .'],\n",
       " ['however , places around world ( cities areas ) disease spreading .'],\n",
       " ['people living , visiting , areas risk catching covid 19 higher .'],\n",
       " ['governments health authorities taking vigorous action every time new case covid 19 identified .'],\n",
       " ['sure comply local restrictions travel , movement large gatherings .'],\n",
       " ['cooperating disease control efforts reduce risk catching spreading covid 19. covid 19 outbreaks contained transmission stopped , shown china countries .'],\n",
       " ['unfortunately , new outbreaks emerge rapidly .'],\n",
       " ['important aware situation intend go .'],\n",
       " ['yet .'],\n",
       " ['date , vaccine specific antiviral medicine prevent treat covid 2019. however , affected receive care relieve symptoms .'],\n",
       " ['people serious illness hospitalized .'],\n",
       " ['patients recover thanks supportive care .'],\n",
       " ['possible vaccines specific drug treatments investigation .'],\n",
       " ['tested clinical trials .']]"
      ]
     },
     "execution_count": 8,
     "metadata": {},
     "output_type": "execute_result"
    }
   ],
   "source": [
    "model_sentence"
   ]
  },
  {
   "cell_type": "markdown",
   "metadata": {},
   "source": [
    "## Tagging the document for each of the sentence in the doc"
   ]
  },
  {
   "cell_type": "code",
   "execution_count": 66,
   "metadata": {},
   "outputs": [],
   "source": [
    "documents = [TaggedDocument(doc, [i]) for i, doc in enumerate(sent_tokens)]"
   ]
  },
  {
   "cell_type": "code",
   "execution_count": 67,
   "metadata": {},
   "outputs": [
    {
     "data": {
      "text/plain": [
       "[TaggedDocument(words='coronaviruses are a large family of viruses which may cause illness in animals or humans.', tags=[0]),\n",
       " TaggedDocument(words='in humans, several coronaviruses are known to cause respiratory infections ranging from the common cold to more severe diseases such as middle east respiratory syndrome (mers) and severe acute respiratory syndrome (sars).', tags=[1]),\n",
       " TaggedDocument(words='the most recently discovered coronavirus causes coronavirus disease covid 19. what is covid 19 covid 19 is the infectious disease caused by the most recently discovered corona virus.', tags=[2]),\n",
       " TaggedDocument(words='this new virus and disease were unknown before the outbreak began in wuhan, china, in december 2019. what are the symptoms of covid 19 the most common symptoms of covid 19 are fever, tiredness, and dry cough.', tags=[3]),\n",
       " TaggedDocument(words='some patients may have aches and pains, nasal congestion, runny nose, sore throat or diarrhea.', tags=[4]),\n",
       " TaggedDocument(words='these symptoms are usually mild and begin gradually.', tags=[5]),\n",
       " TaggedDocument(words=\"some people become infected but don t develop any symptoms and do 't feel unwell.\", tags=[6]),\n",
       " TaggedDocument(words='most people (about 80 ) recover from the disease without needing special treatment.', tags=[7]),\n",
       " TaggedDocument(words='around 1 out of every 6 people who gets covid 19 becomes seriously ill and develops difficulty breathing.', tags=[8]),\n",
       " TaggedDocument(words='older people, and those with underlying medical problems like high blood pressure, heart problems or diabetes, are more likely to develop serious illness.', tags=[9]),\n",
       " TaggedDocument(words='people with fever, cough and difficulty breathing should seek medical attention.', tags=[10]),\n",
       " TaggedDocument(words='how does covid 19 spread people can catch covid 19 from others who have the virus.', tags=[11]),\n",
       " TaggedDocument(words='the disease can spread from person to person through small droplets from the nose or mouth which are spread when a person with covid 19 coughs or exhales.', tags=[12]),\n",
       " TaggedDocument(words='these droplets land on objects and surfaces around the person.', tags=[13]),\n",
       " TaggedDocument(words='other people then catch covid 19 by touching these objects or surfaces, then touching their eyes, nose or mouth.', tags=[14]),\n",
       " TaggedDocument(words='people can also catch covid 19 if they breathe in droplets from a person with covid 19 who coughs out or exhales droplets.', tags=[15]),\n",
       " TaggedDocument(words='this is why it is important to stay more than 1 meter (3 feet) away from a person who is sick.', tags=[16]),\n",
       " TaggedDocument(words='can the virus that causes covid 19 be transmitted through the air studies to date suggest that the virus that causes covid 19 is mainly transmitted through contact with respiratory droplets rather than through the air.', tags=[17]),\n",
       " TaggedDocument(words='see previous answer on how does covid 19 spread can covid 19 be caught from a person who has no symptoms the main way the disease spreads is through respiratory droplets expelled by someone who is coughing.', tags=[18]),\n",
       " TaggedDocument(words='the risk of catching covid 19 from someone with no symptoms at all is very low.', tags=[19]),\n",
       " TaggedDocument(words='however, many people with covid 19 experience only mild symptoms.', tags=[20]),\n",
       " TaggedDocument(words='this is particularly true at the early stages of the disease.', tags=[21]),\n",
       " TaggedDocument(words='it is therefore possible to catch covid 19 from someone who has, for example, just a mild cough and does not feel ill. can i catch covid 19 from the feces of someone with the disease the risk of catching covid 19 from the feces of an infected person appears to be low.', tags=[22]),\n",
       " TaggedDocument(words='while initial investigations suggest the virus may be present in feces in some cases, spread through this route is not a main feature of the outbreak.', tags=[23]),\n",
       " TaggedDocument(words='the ongoing research on the ways covid 19 is spread and will continue to share new findings.', tags=[24]),\n",
       " TaggedDocument(words='because this is a risk, however, it is another reason to clean hands regularly, after using the bathroom and before eating.', tags=[25]),\n",
       " TaggedDocument(words='what can i do to protect myself and prevent the spread of disease protection measures for everyone stay aware of the latest information on the covid 19 outbreak, available on the national,state and local public health authority.', tags=[26]),\n",
       " TaggedDocument(words='many countries around the world have seen cases of covid 19 and several have seen outbreaks.', tags=[27]),\n",
       " TaggedDocument(words='authorities in china and some other countries have succeeded in slowing or stopping their outbreaks.', tags=[28]),\n",
       " TaggedDocument(words='however, the situation is unpredictable so check regularly for the latest news.', tags=[29]),\n",
       " TaggedDocument(words='you can reduce your chances of being infected or spreading covid19 by taking some simple precautions regularly and thoroughly clean your hands with an alcoholbased hand rub or wash them with soap and water.', tags=[30]),\n",
       " TaggedDocument(words='washing your hands with soap and water or using alcohol based hand rub kills viruses that may be on your hands.', tags=[31]),\n",
       " TaggedDocument(words='maintain at least 1 metre (3 feet) distance between yourself and anyone who is coughing or sneezing.', tags=[32]),\n",
       " TaggedDocument(words='when someone coughs or sneezes they spray small liquid droplets from their nose or mouth which may contain virus.', tags=[33]),\n",
       " TaggedDocument(words='if you are too close, you can breathe in the droplets, including the covid 19 virus if the person coughing has the disease.', tags=[34]),\n",
       " TaggedDocument(words='avoid touching eyes, nose and mouth.', tags=[35]),\n",
       " TaggedDocument(words='hands touch many surfaces and can pick up viruses.', tags=[36]),\n",
       " TaggedDocument(words='once contaminated, hands can transfer the virus to your eyes, nose or mouth.', tags=[37]),\n",
       " TaggedDocument(words='from there, the virus can enter your body and can make you sick.', tags=[38]),\n",
       " TaggedDocument(words='make sure you, and the people around you, follow good respiratory hygiene.', tags=[39]),\n",
       " TaggedDocument(words='this means covering your mouth and nose with your bent elbow or tissue when you cough or sneeze.', tags=[40]),\n",
       " TaggedDocument(words='then dispose of the used tissue immediately.', tags=[41]),\n",
       " TaggedDocument(words='droplets spread virus.', tags=[42]),\n",
       " TaggedDocument(words='by following good respiratory hygiene you protect the people around you from viruses such as cold, flu and covid 19. stay home if you feel unwell.', tags=[43]),\n",
       " TaggedDocument(words='if you have a fever, cough and difficulty breathing, seek medical attention and call in advance.', tags=[44]),\n",
       " TaggedDocument(words='follow the directions of your local health authority.', tags=[45]),\n",
       " TaggedDocument(words='national and local authorities will have the most up to date information on the situation in your area.', tags=[46]),\n",
       " TaggedDocument(words='calling in advance will allow your health care provider to quickly direct you to the right health facility.', tags=[47]),\n",
       " TaggedDocument(words='this will also protect you and help prevent spread of viruses and other infections.', tags=[48]),\n",
       " TaggedDocument(words='keep up to date on the latest covid 19 hotspots (cities or local areas where covid 19 is spreading widely).', tags=[49]),\n",
       " TaggedDocument(words='if possible, avoid traveling to places especially if you are an older person or have diabetes, heart or lung disease.', tags=[50]),\n",
       " TaggedDocument(words='you have a higher chance of catching covid 19 in one of these areas.', tags=[51]),\n",
       " TaggedDocument(words='protection measures for persons who are in or have recently visited (past 14 days) areas where covid 19 is spreading o follow the guidance outlined above (protection measures for everyone) o self isolate by staying at home if you begin to feel unwell, even with mild symptoms such as headache, low grade fever (37.3 c or above) and slight runny nose, until you recover.', tags=[52]),\n",
       " TaggedDocument(words='if it is essential for you to have someone bring you supplies or to go out, e.g.', tags=[53]),\n",
       " TaggedDocument(words='to buy food, then wear a mask to avoid infecting other people.', tags=[54]),\n",
       " TaggedDocument(words='avoiding contact with others and visits to medical facilities will allow these facilities to operate more effectively and help protect you and others from possible covid 19 and other viruses.', tags=[55]),\n",
       " TaggedDocument(words='o if you develop fever, cough and difficulty breathing, seek medical advice promptly as this may be due to a respiratory infection or other serious condition.', tags=[56]),\n",
       " TaggedDocument(words='call in advance and tell your provider of any recent travel or contact with travelers.', tags=[57]),\n",
       " TaggedDocument(words='calling in advance will allow your health care provider to quickly direct you to the right health facility.', tags=[58]),\n",
       " TaggedDocument(words='this will also help to prevent possible spread of covid 19 and other viruses.', tags=[59]),\n",
       " TaggedDocument(words='how likely am i to catch covid 19 the risk depends on where you are and more specifically, whether there is a covid 19 outbreak unfolding there.', tags=[60]),\n",
       " TaggedDocument(words='for most people in most locations the risk of catching covid 19 is still low.', tags=[61]),\n",
       " TaggedDocument(words='however, there are now places around the world (cities or areas) where the disease is spreading.', tags=[62]),\n",
       " TaggedDocument(words='for people living in, or visiting, these areas the risk of catching covid 19 is higher.', tags=[63]),\n",
       " TaggedDocument(words='governments and health authorities are taking vigorous action every time a new case of covid 19 is identified.', tags=[64]),\n",
       " TaggedDocument(words='be sure to comply with any local restrictions on travel, movement or large gatherings.', tags=[65]),\n",
       " TaggedDocument(words='cooperating with disease control efforts will reduce your risk of catching or spreading covid 19. covid 19 outbreaks can be contained and transmission stopped, as has been shown in china and some other countries.', tags=[66]),\n",
       " TaggedDocument(words='unfortunately, new outbreaks can emerge rapidly.', tags=[67]),\n",
       " TaggedDocument(words='it s important to be aware of the situation where you are or intend to go.', tags=[68]),\n",
       " TaggedDocument(words='should i worry about covid 19 illness due to covid 19 infection is generally mild, especially for children and young adults.', tags=[69]),\n",
       " TaggedDocument(words='however, it can cause serious illness about 1 in every 5 people who catch it need hospital care.', tags=[70]),\n",
       " TaggedDocument(words='it is therefore quite normal for people to worry about how the covid 19 outbreak will affect them and their loved ones.', tags=[71]),\n",
       " TaggedDocument(words='we can channel our concerns into actions to protect ourselves, our loved ones and our communities.', tags=[72]),\n",
       " TaggedDocument(words='first and foremost among these actions is regular and thorough hand washing and good respiratory hygiene.', tags=[73]),\n",
       " TaggedDocument(words='secondly, keep informed and follow the advice of the local health authorities including any restrictions put in place on travel, movement and gatherings.', tags=[74]),\n",
       " TaggedDocument(words='who is at risk of developing severe illness while we are still learning about how covid 2019 affects people, older persons and persons with pre existing medical conditions (such as high blood pressure, heart disease, lung disease, cancer or diabetes) appear to develop serious illness more often than others.', tags=[75]),\n",
       " TaggedDocument(words='are antibiotics effective in preventing or treating the covid 19 no.', tags=[76]),\n",
       " TaggedDocument(words='antibiotics do not work against viruses, they only work on bacterial infections.', tags=[77]),\n",
       " TaggedDocument(words='covid 19 is caused by a virus, so antibiotics do not work.', tags=[78]),\n",
       " TaggedDocument(words='antibiotics should not be used as a means of prevention or treatment of covid 19. they should only be used as directed by a physician to treat a bacterial infection.', tags=[79]),\n",
       " TaggedDocument(words='are there any medicines or therapies that can prevent or cure covid 19 while some western, traditional or home remedies may provide comfort and alleviate symptoms of covid 19, there is no evidence that current medicine can prevent or cure the disease.', tags=[80]),\n",
       " TaggedDocument(words='we does not recommend self medication with any medicines, including antibiotics, as a prevention or cure for covid 19. however, there are several ongoing clinical trials that include both western and traditional medicines.', tags=[81]),\n",
       " TaggedDocument(words='we will continue to provide updated information as soon as clinical findings are available.', tags=[82]),\n",
       " TaggedDocument(words='is there a vaccine drug or treatment for covid 19 not yet.', tags=[83]),\n",
       " TaggedDocument(words='to date, there is no vaccine and no specific antiviral medicine to prevent or treat covid 2019. however, those affected should receive care to relieve symptoms.', tags=[84]),\n",
       " TaggedDocument(words='people with serious illness should be hospitalized.', tags=[85]),\n",
       " TaggedDocument(words='most patients recover thanks to supportive care.', tags=[86]),\n",
       " TaggedDocument(words='possible vaccines and some specific drug treatments are under investigation.', tags=[87]),\n",
       " TaggedDocument(words='they are being tested through clinical trials.', tags=[88]),\n",
       " TaggedDocument(words='the most effective ways to protect yourself and others against covid 19 are to frequently clean your hands, cover your cough with the bend of elbow or tissue, and maintain a distance of at least 1 meter (3 feet) from people who are coughing or sneezing is covid 19 the same as sars no.', tags=[89]),\n",
       " TaggedDocument(words='the virus that causes covid 19 and the one that caused the outbreak of severe acute respiratory syndrome (sars) in 2003 are related to each other genetically, but the diseases they cause are quite different.', tags=[90]),\n",
       " TaggedDocument(words='sars was more deadly but much less infectious than covid 19. there have been no outbreaks of sars anywhere in the world since 2003. should i wear mask to protect myself only wear a mask if you are ill with covid 19 symptoms (especially coughing) or looking after someone who may have covid 19. disposable face mask can only be used once.', tags=[91]),\n",
       " TaggedDocument(words='if you are not ill or looking after someone who is ill then you are wasting a mask.', tags=[92]),\n",
       " TaggedDocument(words='there is a world wide shortage of masks, so we urge people to use masks wisely.', tags=[93]),\n",
       " TaggedDocument(words='we advises rational use of medical masks to avoid unnecessary wastage of precious resources and mis use of masks the most effective ways to protect yourself and others against covid 19 are to frequently clean your hands, cover your cough with the bend of elbow or tissue and maintain a distance of at least 1 meter (3 feet) from people who are coughing or sneezing.', tags=[94]),\n",
       " TaggedDocument(words='how to put on use take off and dispose of a mask 1. remember, a mask should only be used by health workers, care takers, and individuals with respiratory symptoms, such as fever and cough.', tags=[95]),\n",
       " TaggedDocument(words='2. before touching the mask, clean hands with an alcohol based hand rub or soap and water 3. take the mask and inspect it for tears or holes.', tags=[96]),\n",
       " TaggedDocument(words='4. orient which side is the top side (where the metal strip is).', tags=[97]),\n",
       " TaggedDocument(words='5. ensure the proper side of the mask faces outwards (the coloured side).', tags=[98]),\n",
       " TaggedDocument(words='6. place the mask to your face.', tags=[99]),\n",
       " TaggedDocument(words='pinch the metal strip or stiff edge of the mask so it moulds to the shape of your nose.', tags=[100]),\n",
       " TaggedDocument(words='7. pull down the mask s bottom so it covers your mouth and your chin.', tags=[101]),\n",
       " TaggedDocument(words='8. after use, take off the mask remove the elastic loops from behind the ears while keeping the mask away from your face and clothes, to avoid touching potentially contaminated surfaces of the mask.', tags=[102]),\n",
       " TaggedDocument(words='9. discard the mask in a closed bin immediately after use.', tags=[103]),\n",
       " TaggedDocument(words='10. perform hand hygiene after touching or discarding the mask use alcohol based hand rub or, if visibly soiled, wash your hands with soap and water.', tags=[104]),\n",
       " TaggedDocument(words='how long is the incubation period for covid 19 the incubation period means the time between catching the virus and beginning to have symptoms of the disease.', tags=[105]),\n",
       " TaggedDocument(words='most estimates of the incubation period for covid 19 range from 1 14 days, most commonly around five days.', tags=[106]),\n",
       " TaggedDocument(words='these estimates will be updated as more data become available.', tags=[107]),\n",
       " TaggedDocument(words='can humans become infected with the covid 19 from an animal source coronaviruses are a large family of viruses that are common in animals.', tags=[108]),\n",
       " TaggedDocument(words='occasionally, people get infected with these viruses which may then spread to other people.', tags=[109]),\n",
       " TaggedDocument(words='for example, sars cov was associated with civet cats and mers cov is transmitted by dromedary camels.', tags=[110]),\n",
       " TaggedDocument(words='possible animal sources of covid 19 have not yet been confirmed.', tags=[111]),\n",
       " TaggedDocument(words='to protect yourself, such as when visiting live animal markets, avoid direct contact with animals and surfaces in contact with animals.', tags=[112]),\n",
       " TaggedDocument(words='ensure good food safety practices at all times.', tags=[113]),\n",
       " TaggedDocument(words='handle raw meat, milk or animal organs with care to avoid contamination of uncooked foods and avoid consuming raw or undercooked animal products.', tags=[114]),\n",
       " TaggedDocument(words='can i catch covid 19 from my pet while there has been one instance of a dog being infected in hong kong, to date, there is no evidence that a dog, cat or any pet can transmit covid 19. covid 19 is mainly spread through droplets produced when an infected person coughs, sneezes, or speaks.', tags=[115]),\n",
       " TaggedDocument(words='to protect yourself, clean your hands frequently and thoroughly.', tags=[116]),\n",
       " TaggedDocument(words='we continues to monitor the latest research on this and other covid19 topics and will update as new findings are available.', tags=[117]),\n",
       " TaggedDocument(words='how long does the virus survive on surfaces it is not certain how long the virus that causes covid 19 survives on surfaces, but it seems to behave like other corona viruses.', tags=[118]),\n",
       " TaggedDocument(words='studies suggest that corona viruses (including preliminary information on the covid 19 virus) may persist on surfaces for a few hours or up to several days.', tags=[119]),\n",
       " TaggedDocument(words='this may vary under different conditions (e.g.', tags=[120]),\n",
       " TaggedDocument(words='type of surface, temperature or humidity of the environment).', tags=[121]),\n",
       " TaggedDocument(words='if you think a surface may be infected, clean it with simple disinfectant to kill the virus and protect yourself and others.', tags=[122]),\n",
       " TaggedDocument(words='clean your hands with an alcohol based hand rub or wash them with soap and water.', tags=[123]),\n",
       " TaggedDocument(words='avoid touching your eyes, mouth, or nose.', tags=[124]),\n",
       " TaggedDocument(words='is it safe to receive a package from any area where covid 19 has been reported yes.', tags=[125]),\n",
       " TaggedDocument(words='the likelihood of an infected person contaminating commercial goods is low and the risk of catching the virus that causes covid 19 from a package that has been moved, travelled, and exposed to different conditions and temperature is also low.', tags=[126]),\n",
       " TaggedDocument(words='is there anything i should not do the following measures are not effective against covid 2019 and can be harmful smoking wearing multiple masks taking antibiotics (see question 10 are there any medicines of therapies that can prevent or cure covid 19 ) in any case, if you have fever, cough and difficulty breathing seek medical care early to reduce the risk of developing a more severe infection and be sure to share your recent travel history with your health care provider.', tags=[127]),\n",
       " TaggedDocument(words='coronavirus disease (covid 19) is an infectious disease caused by a newly discovered coronavirus.', tags=[128]),\n",
       " TaggedDocument(words='coronavirus are a group of related viruses that cause diseases in mammals and birds.', tags=[129]),\n",
       " TaggedDocument(words='in humans, coronaviruses cause respiratory tract infections that can range from mild to lethal mild illnesses include some cases of the common cold (which has other possible causes, predominantly rhinoviruses), while more lethal varieties can cause sars, mers, and covid 19. symptoms in other species vary in chickens, they cause an upper respiratory tract disease, while in cows and pigs they cause diarrhea.', tags=[130]),\n",
       " TaggedDocument(words='there are yet to be vaccines or antiviral drugs to prevent or treat human coronavirus infectionsmost people infected with the covid 19 virus will experience mild to moderate respiratory illness and recover without requiring special treatment.', tags=[131]),\n",
       " TaggedDocument(words='older people, and those with underlying medical problems like cardiovascular disease, diabetes, chronic respiratory disease, and cancer are more likely to develop serious illness.', tags=[132]),\n",
       " TaggedDocument(words='the best way to prevent and slow down transmission is be well informed about the covid 19 virus, the disease it causes and how it spreads.', tags=[133]),\n",
       " TaggedDocument(words='protect yourself and others from infection by washing your hands or using an alcohol based rub frequently and not touching your face.', tags=[134]),\n",
       " TaggedDocument(words='the covid 19 virus spreads primarily through droplets of saliva or discharge from the nose when an infected person coughs or sneezes, so it s important that you also practice respiratory etiquette (for example, by coughing into a flexed elbow).', tags=[135]),\n",
       " TaggedDocument(words='at this time, there are no specific vaccines or treatments for covid 19. however, there are many ongoing clinical trials evaluating potential treatments.', tags=[136]),\n",
       " TaggedDocument(words='who will continue to provide updated information as soon as clinical findings become available prevention to prevent infection and to slow transmission of covid 19, do the following wash your hands regularly with soap and water, or clean them with alcohol based hand rub maintain at least 1 metre distance between you and people coughing or sneezing avoid touching your face.', tags=[137]),\n",
       " TaggedDocument(words='cover your mouth and nose when coughing or sneezing.', tags=[138]),\n",
       " TaggedDocument(words='stay home if you feel unwell.', tags=[139]),\n",
       " TaggedDocument(words='refrain from smoking and other activities that weaken the lungs.', tags=[140]),\n",
       " TaggedDocument(words='practice physical distancing by avoiding unnecessary travel and staying away from large groups of people the covid 19 virus affects different people in different ways.', tags=[141]),\n",
       " TaggedDocument(words='covid 19 is a respiratory disease and most infected people will develop mild to moderate symptoms and recover without requiring special treatment.', tags=[142]),\n",
       " TaggedDocument(words='people who have underlying medical conditions and those over 60 years old have a higher risk of developing severe disease and death.', tags=[143]),\n",
       " TaggedDocument(words='common symptoms include fever tiredness dry cough.', tags=[144]),\n",
       " TaggedDocument(words='other symptoms include shortness of breath aches and pains sore throat and very few people will report diarrhoea, nausea or a runny nose.', tags=[145]),\n",
       " TaggedDocument(words='people with mild symptoms who are otherwise healthy should self isolate and contact their medical provider or a covid 19 information line for advice on testing and referral.', tags=[146]),\n",
       " TaggedDocument(words='people with fever, cough or difficulty breathing should call their doctor and seek medical attention.', tags=[147]),\n",
       " TaggedDocument(words='covid 19 cases in usa active cases 6,44,188 deaths 28,579 recovered 52,629 in india covid 19 cases in spain active cases 1,80,569 deaths 18812 recovered 70,853 in india covid 19 cases in italy active cases 1,65,155 deaths 21,645 recovered 38,092 in india covid 19 cases in india active cases 12,380 deaths in india 414 recovered 1,489 in india the world is currently experiencing a pandemic of an infectious disease called coronavirus disease 2019, or covid 19. covid 19 is caused by the severe acute respiratory syndrome coronavirus 2 (sars cov 2) and is part of a large family of coronaviruses (cov).', tags=[148]),\n",
       " TaggedDocument(words='coronaviruses are transmitted from animals to people, with this particular strain of coronavirus thought to have originated from a seafood market in the city of wuhan in china in late december of 2019. symptoms of covid 19 resemble that of the common cold, with those infected often experiencing fever, coughing, and shortness of breath.', tags=[149]),\n",
       " TaggedDocument(words='however, infection can lead to pneumonia, multi organ failure, severe acute respiratory syndrome, and even death, in more severe cases.', tags=[150]),\n",
       " TaggedDocument(words='the elderly and those with preexisting chronic health conditions have accounted for the majority of deaths from covid 19. as of april 23, 2020, there had been cases of the disease in around 210 countries or territories across 6 continents.', tags=[151]),\n",
       " TaggedDocument(words='china was initially the country most impacted by the disease, however the united states, spain, italy, germany, and france now have the most cases worldwide.', tags=[152]),\n",
       " TaggedDocument(words='as of this time, there had been a total of 2,638,909 cases of covid 19 worldwide, with 849,092 of these cases found in the united states and 82,798 found in china.', tags=[153]),\n",
       " TaggedDocument(words='many countries around the world are now enforcing lockdowns to try to slow the spread of the disease.', tags=[154]),\n",
       " TaggedDocument(words='such measures and restrictions vary from country to country but usually involve closing schools, canceling public events, closing borders, and encouraging people to work from home.', tags=[155]),\n",
       " TaggedDocument(words='the united states now has the highest number of covid 19 cases and deaths of any country worldwide.', tags=[156]),\n",
       " TaggedDocument(words='every u.s. state has reported cases of covid 19, with the state of new york accounting for the vast majority of cases.', tags=[157]),\n",
       " TaggedDocument(words='new york state now has more covid 19 cases than any single country worldwide.', tags=[158]),\n",
       " TaggedDocument(words='survey data shows that concern about the covid 19 pandemic has increased in the united states, with 32 percent of u.s. adults in january stating they were very concerned about the outbreak and this number rising to 58 percent as of april 19. it is estimated that over 90 percent of the population of the united states is now under a stay at home order, with many states closing schools, restaurants and other entertainment venues, canceling public events, and encouranging social distancing.', tags=[159]),\n",
       " TaggedDocument(words=\"the united states government has been criticized for initially downplaying the seriousness of the pandemic and for its slow response as cases began to rise in the u.s. a recent survey from statista has found that u.s. adults are less likely to be satisfied with their national government 's response to the covid 19 pandemic than their counterparts in the united kingdom or germany.\", tags=[160]),\n",
       " TaggedDocument(words='as of april 23, 2020, there had been a total of 184,249 deaths due to the virus, with the united states reporting the highest number of deaths of any country worldwide, followed by italy and spain.', tags=[161]),\n",
       " TaggedDocument(words='as of march 6, the world health organization (who) had estimated the crude mortality rate of covid 19 to be between three and four percent.', tags=[162]),\n",
       " TaggedDocument(words='however, it is now thought that the mortality rate is most likely lower than this estimate, although the true mortality rate is difficult to determine as of this time.', tags=[163]),\n",
       " TaggedDocument(words='nevertheless, this rate is higher than that of seasonal influenza, usually well below .1 percent, but lower than rates of other recent virus outbreaks.', tags=[164]),\n",
       " TaggedDocument(words='for example, the middle east respiratory syndrome related coronavirus (mers cov), first reported in 2012, has a fatality rate of 34.4 percent, while severe acute respiratory syndrome related coronavirus (sars) has a rate of 9.6 percent.', tags=[165]),\n",
       " TaggedDocument(words='multiple organizations around the world are currently working on a vaccine for covid 19, but it is difficult to tell just how long it will take until one is available to the public.', tags=[166]),\n",
       " TaggedDocument(words='until then, the world health organization (who) has encouraged those living in regions with infections to take basic precautionary measures such as regularly washing hands, covering the mouth and nose with a bent elbow when coughing and sneezing, and avoiding contact with people who may be infected.', tags=[167]),\n",
       " TaggedDocument(words='aside from the obvious impacts on human health, the covid 19 pandemic has also greatly impacted the global economy, negatively effecting industries such as the global financial sector, sports, and tourism.', tags=[168]),\n",
       " TaggedDocument(words='an increasing share of people worldwide believe covid 19 poses a very high or high level of threat to their country and a growing percentage of people fear the outbreak will personally impact them financially.', tags=[169]),\n",
       " TaggedDocument(words='the impact of the pandemic on the global economy has already begun to show, however the true consequences of the pandemic are yet to be seen as case numbers continue to rise in many countries around the world', tags=[170])]"
      ]
     },
     "execution_count": 67,
     "metadata": {},
     "output_type": "execute_result"
    }
   ],
   "source": [
    "documents"
   ]
  },
  {
   "cell_type": "markdown",
   "metadata": {},
   "source": [
    "## Run the Doc2Vec model"
   ]
  },
  {
   "cell_type": "code",
   "execution_count": 68,
   "metadata": {},
   "outputs": [],
   "source": [
    "max_epochs = 1000\n",
    "vec_size = 80\n",
    "alpha = 0.025\n",
    "\n",
    "model = Doc2Vec(size=vec_size,\n",
    "                alpha=alpha, \n",
    "                min_alpha=0.00025,\n",
    "                min_count=1,\n",
    "                dm =1,\n",
    "                dbow_words=1)\n",
    "\n"
   ]
  },
  {
   "cell_type": "code",
   "execution_count": 69,
   "metadata": {},
   "outputs": [],
   "source": [
    "model.build_vocab(documents)"
   ]
  },
  {
   "cell_type": "code",
   "execution_count": 70,
   "metadata": {},
   "outputs": [
    {
     "name": "stdout",
     "output_type": "stream",
     "text": [
      "Model Saved\n"
     ]
    }
   ],
   "source": [
    "for epoch in range(max_epochs):\n",
    "    #print('iteration {0}'.format(epoch))\n",
    "    model.train(documents,\n",
    "                total_examples=model.corpus_count,\n",
    "                epochs=model.iter)\n",
    "    # decrease the learning rate\n",
    "    model.alpha -= 0.0002\n",
    "    # fix the learning rate, no decay\n",
    "    model.min_alpha = model.alpha\n",
    "\n",
    "model.save(\"d2v.model\")\n",
    "print(\"Model Saved\")"
   ]
  },
  {
   "cell_type": "markdown",
   "metadata": {},
   "source": [
    "## Greetings for the BOT"
   ]
  },
  {
   "cell_type": "code",
   "execution_count": 71,
   "metadata": {},
   "outputs": [],
   "source": [
    "greeting_inputs = (\"hey\", \"good morning\", \"good evening\", \"morning\", \"evening\", \"hi\", \"whatsup\")\n",
    "greeting_responses = [\"hey\", \"hey hows you?\", \"hello, how you doing\", \"hello\", \"Welcome, I am good and you\"]\n",
    "\n",
    "def greeting(sentence):\n",
    "    for word in sentence.split():\n",
    "        if word.lower() in greeting_inputs:\n",
    "            return random.choice(greeting_responses)"
   ]
  },
  {
   "cell_type": "markdown",
   "metadata": {},
   "source": [
    "## Defining a function to get response of user"
   ]
  },
  {
   "cell_type": "code",
   "execution_count": 72,
   "metadata": {},
   "outputs": [],
   "source": [
    "def response_(user_response):\n",
    "    chatbot_return=''\n",
    "    test_data = word_tokenize(user_response.lower())\n",
    "    v1 = model.infer_vector(test_data)\n",
    "    \n",
    "    ## Find similar sentence to the user response\n",
    "    similar_doc = model.docvecs.most_similar([v1])\n",
    "    #print(similar_doc)\n",
    "    if(similar_doc==0):\n",
    "        chatbot_return = chatbot_return + \"Sorry! I don't understand you\"\n",
    "        return chatbot_return\n",
    "    else:\n",
    "        #print(int(similar_doc[0][0]))\n",
    "        retunr_string = documents[int(similar_doc[0][0])][0]\n",
    "        #print(retunr_string)\n",
    "        listToStr = ' '.join([str(elem) for elem in retunr_string])\n",
    "        chatbot_return = chatbot_return + retunr_string\n",
    "        return chatbot_return"
   ]
  },
  {
   "cell_type": "code",
   "execution_count": 73,
   "metadata": {},
   "outputs": [
    {
     "name": "stdout",
     "output_type": "stream",
     "text": [
      "ChatBot: I can share some knowlegde about Coronavirus\n",
      "Hi\n",
      "ChatBot:hey\n",
      "Hey\n",
      "ChatBot:hey\n",
      "What are coronaviruses?\n",
      "Chatbot :refrain from smoking and other activities that weaken the lungs.\n",
      "COVID-19?\n",
      "Chatbot :is there a vaccine drug or treatment for covid 19 not yet.\n",
      "Thanks\n",
      "Chatbot: You are welcome\n"
     ]
    }
   ],
   "source": [
    "flag = True\n",
    "print(\"ChatBot: I can share some knowlegde about Coronavirus\")\n",
    "while(flag==True):\n",
    "    user_response = input()\n",
    "    user_response = user_response.lower()\n",
    "    if(user_response=='thanks' or user_response =='thank you'):\n",
    "            flag = False\n",
    "            print(\"Chatbot: You are welcome\")\n",
    "    else:\n",
    "        if(greeting(user_response)!=None):\n",
    "                print(\"ChatBot:\" + greeting(user_response))\n",
    "        else:\n",
    "                print(\"Chatbot :\", end = \"\")\n",
    "                print(response_(user_response))"
   ]
  }
 ],
 "metadata": {
  "kernelspec": {
   "display_name": "Python 3",
   "language": "python",
   "name": "python3"
  },
  "language_info": {
   "codemirror_mode": {
    "name": "ipython",
    "version": 3
   },
   "file_extension": ".py",
   "mimetype": "text/x-python",
   "name": "python",
   "nbconvert_exporter": "python",
   "pygments_lexer": "ipython3",
   "version": "3.7.1"
  }
 },
 "nbformat": 4,
 "nbformat_minor": 2
}
